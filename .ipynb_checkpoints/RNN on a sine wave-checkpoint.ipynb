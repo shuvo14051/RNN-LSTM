{
 "cells": [
  {
   "cell_type": "markdown",
   "id": "a83f98da",
   "metadata": {},
   "source": [
    "## Necessary libraries"
   ]
  },
  {
   "cell_type": "code",
   "execution_count": 1,
   "id": "1206c640",
   "metadata": {},
   "outputs": [],
   "source": [
    "import pandas as pd\n",
    "import numpy as np\n",
    "import matplotlib.pyplot as plt\n",
    "import seaborn as sns"
   ]
  },
  {
   "cell_type": "markdown",
   "id": "93e0b39a",
   "metadata": {},
   "source": [
    "## Creating the sine wave dataset"
   ]
  },
  {
   "cell_type": "code",
   "execution_count": 2,
   "id": "44f467cb",
   "metadata": {},
   "outputs": [],
   "source": [
    "x = np.linspace(0,50,501)\n",
    "y = np.sin(x)\n",
    "# plt.plot(x,y)"
   ]
  },
  {
   "cell_type": "code",
   "execution_count": 3,
   "id": "5ea3464d",
   "metadata": {},
   "outputs": [
    {
     "data": {
      "text/html": [
       "<div>\n",
       "<style scoped>\n",
       "    .dataframe tbody tr th:only-of-type {\n",
       "        vertical-align: middle;\n",
       "    }\n",
       "\n",
       "    .dataframe tbody tr th {\n",
       "        vertical-align: top;\n",
       "    }\n",
       "\n",
       "    .dataframe thead th {\n",
       "        text-align: right;\n",
       "    }\n",
       "</style>\n",
       "<table border=\"1\" class=\"dataframe\">\n",
       "  <thead>\n",
       "    <tr style=\"text-align: right;\">\n",
       "      <th></th>\n",
       "      <th>Sines</th>\n",
       "    </tr>\n",
       "  </thead>\n",
       "  <tbody>\n",
       "    <tr>\n",
       "      <th>49.6</th>\n",
       "      <td>-0.617439</td>\n",
       "    </tr>\n",
       "    <tr>\n",
       "      <th>49.7</th>\n",
       "      <td>-0.535823</td>\n",
       "    </tr>\n",
       "    <tr>\n",
       "      <th>49.8</th>\n",
       "      <td>-0.448854</td>\n",
       "    </tr>\n",
       "    <tr>\n",
       "      <th>49.9</th>\n",
       "      <td>-0.357400</td>\n",
       "    </tr>\n",
       "    <tr>\n",
       "      <th>50.0</th>\n",
       "      <td>-0.262375</td>\n",
       "    </tr>\n",
       "  </tbody>\n",
       "</table>\n",
       "</div>"
      ],
      "text/plain": [
       "         Sines\n",
       "49.6 -0.617439\n",
       "49.7 -0.535823\n",
       "49.8 -0.448854\n",
       "49.9 -0.357400\n",
       "50.0 -0.262375"
      ]
     },
     "execution_count": 3,
     "metadata": {},
     "output_type": "execute_result"
    }
   ],
   "source": [
    "df = pd.DataFrame(data=y, index=x, columns = ['Sines'])\n",
    "df.tail()"
   ]
  },
  {
   "cell_type": "markdown",
   "id": "c9e1141a",
   "metadata": {},
   "source": [
    "## Train test split the dataset"
   ]
  },
  {
   "cell_type": "code",
   "execution_count": 4,
   "id": "256acaad",
   "metadata": {},
   "outputs": [
    {
     "data": {
      "text/plain": [
       "50.1"
      ]
     },
     "execution_count": 4,
     "metadata": {},
     "output_type": "execute_result"
    }
   ],
   "source": [
    "test_percent = 0.1\n",
    "len(df)*test_percent"
   ]
  },
  {
   "cell_type": "code",
   "execution_count": 5,
   "id": "78b4bc53",
   "metadata": {},
   "outputs": [
    {
     "data": {
      "text/plain": [
       "50.0"
      ]
     },
     "execution_count": 5,
     "metadata": {},
     "output_type": "execute_result"
    }
   ],
   "source": [
    "test_point = np.round(len(df)*test_percent)\n",
    "test_point"
   ]
  },
  {
   "cell_type": "code",
   "execution_count": 6,
   "id": "288adaeb",
   "metadata": {},
   "outputs": [],
   "source": [
    "test_index = int(len(df)-test_point)\n",
    "train = df.iloc[:test_index]\n",
    "test = df.iloc[test_index:]"
   ]
  },
  {
   "cell_type": "code",
   "execution_count": 7,
   "id": "baafee3c",
   "metadata": {},
   "outputs": [
    {
     "name": "stdout",
     "output_type": "stream",
     "text": [
      "(451, 1) (50, 1)\n"
     ]
    }
   ],
   "source": [
    "print(train.shape, test.shape)"
   ]
  },
  {
   "cell_type": "markdown",
   "id": "c757a6ad",
   "metadata": {},
   "source": [
    "## Scaling"
   ]
  },
  {
   "cell_type": "code",
   "execution_count": 8,
   "id": "12cbd89e",
   "metadata": {},
   "outputs": [],
   "source": [
    "from sklearn.preprocessing import MinMaxScaler\n",
    "scaler = MinMaxScaler()\n",
    "scaler.fit(train)\n",
    "scaled_train = scaler.transform(train)\n",
    "scaled_test = scaler.transform(test)"
   ]
  },
  {
   "cell_type": "markdown",
   "id": "9e468a5a",
   "metadata": {},
   "source": [
    "## How to Create the timestamp"
   ]
  },
  {
   "cell_type": "code",
   "execution_count": 9,
   "id": "bbe9694e",
   "metadata": {},
   "outputs": [],
   "source": [
    "from tensorflow.keras.preprocessing.sequence import TimeseriesGenerator\n",
    "length = 3 # this is the time steps. Takes two points to predict the next one\n",
    "batch_size = 1\n",
    "generator = TimeseriesGenerator(scaled_train, scaled_train,\n",
    "                                length=length, batch_size=batch_size)"
   ]
  },
  {
   "cell_type": "code",
   "execution_count": 10,
   "id": "101128b8",
   "metadata": {},
   "outputs": [
    {
     "name": "stdout",
     "output_type": "stream",
     "text": [
      "451 448\n"
     ]
    }
   ],
   "source": [
    "print(len(scaled_train), len(generator))"
   ]
  },
  {
   "cell_type": "code",
   "execution_count": 11,
   "id": "00735f94",
   "metadata": {},
   "outputs": [
    {
     "data": {
      "text/plain": [
       "array([[0.49999912],\n",
       "       [0.54991622],\n",
       "       [0.59933458],\n",
       "       [0.64776041],\n",
       "       [0.69470985]])"
      ]
     },
     "execution_count": 11,
     "metadata": {},
     "output_type": "execute_result"
    }
   ],
   "source": [
    "scaled_train[:5]"
   ]
  },
  {
   "cell_type": "code",
   "execution_count": 12,
   "id": "50d7f950",
   "metadata": {},
   "outputs": [
    {
     "name": "stdout",
     "output_type": "stream",
     "text": [
      "[[[0.49999912]\n",
      "  [0.54991622]\n",
      "  [0.59933458]]]\n",
      "--------------\n",
      "[[0.64776041]]\n"
     ]
    }
   ],
   "source": [
    "X,y = generator[0]\n",
    "print(X)\n",
    "print(\"--------------\")\n",
    "print(y)"
   ]
  },
  {
   "cell_type": "markdown",
   "id": "b3facf4d",
   "metadata": {},
   "source": [
    "## Time stamp for RNN"
   ]
  },
  {
   "cell_type": "code",
   "execution_count": 13,
   "id": "b3f7ff45",
   "metadata": {},
   "outputs": [],
   "source": [
    "from tensorflow.keras.preprocessing.sequence import TimeseriesGenerator\n",
    "length = 50 # this is the time steps. Takes two points to predict the next one\n",
    "batch_size = 1\n",
    "generator = TimeseriesGenerator(scaled_train, scaled_train,\n",
    "                                length=length, batch_size=batch_size)"
   ]
  },
  {
   "cell_type": "markdown",
   "id": "62be9f26",
   "metadata": {},
   "source": [
    "## Modeling "
   ]
  },
  {
   "cell_type": "code",
   "execution_count": 14,
   "id": "9739973f",
   "metadata": {},
   "outputs": [],
   "source": [
    "import tensorflow as tf\n",
    "from tensorflow.keras.models import Sequential\n",
    "from tensorflow.keras.layers import Dense, SimpleRNN, LSTM, Dropout"
   ]
  },
  {
   "cell_type": "code",
   "execution_count": 15,
   "id": "8b452cf8",
   "metadata": {},
   "outputs": [],
   "source": [
    "n_features=1\n",
    "model = Sequential()\n",
    "model.add(SimpleRNN(50, input_shape=(length,n_features)))\n",
    "# model.add(SimpleRNN(50))\n",
    "model.add(Dense(1))\n",
    "\n",
    "model.compile(optimizer='adam', loss='mse')"
   ]
  },
  {
   "cell_type": "code",
   "execution_count": 16,
   "id": "ff7b6270",
   "metadata": {},
   "outputs": [
    {
     "name": "stdout",
     "output_type": "stream",
     "text": [
      "Epoch 1/10\n",
      "401/401 [==============================] - 3s 6ms/step - loss: 0.0109\n",
      "Epoch 2/10\n",
      "401/401 [==============================] - 2s 5ms/step - loss: 2.6828e-04\n",
      "Epoch 3/10\n",
      "401/401 [==============================] - 2s 5ms/step - loss: 5.9567e-05\n",
      "Epoch 4/10\n",
      "401/401 [==============================] - 2s 5ms/step - loss: 7.3065e-04\n",
      "Epoch 5/10\n",
      "401/401 [==============================] - 2s 5ms/step - loss: 2.7916e-05\n",
      "Epoch 6/10\n",
      "401/401 [==============================] - 2s 5ms/step - loss: 2.8418e-05\n",
      "Epoch 7/10\n",
      "401/401 [==============================] - 2s 5ms/step - loss: 1.7659e-04\n",
      "Epoch 8/10\n",
      "401/401 [==============================] - 2s 5ms/step - loss: 2.8386e-05\n",
      "Epoch 9/10\n",
      "401/401 [==============================] - 2s 5ms/step - loss: 1.1321e-05\n",
      "Epoch 10/10\n",
      "401/401 [==============================] - 2s 5ms/step - loss: 1.1762e-04\n"
     ]
    },
    {
     "data": {
      "text/plain": [
       "<keras.callbacks.History at 0x1a9714dc670>"
      ]
     },
     "execution_count": 16,
     "metadata": {},
     "output_type": "execute_result"
    }
   ],
   "source": [
    "model.fit(generator, epochs=10)"
   ]
  },
  {
   "cell_type": "code",
   "execution_count": 17,
   "id": "7c7af3d2",
   "metadata": {},
   "outputs": [
    {
     "data": {
      "text/plain": [
       "<AxesSubplot:>"
      ]
     },
     "execution_count": 17,
     "metadata": {},
     "output_type": "execute_result"
    },
    {
     "data": {
      "image/png": "[encoded data removed]",
      "text/plain": [
       "<Figure size 640x480 with 1 Axes>"
      ]
     },
     "metadata": {},
     "output_type": "display_data"
    }
   ],
   "source": [
    "losses = pd.DataFrame(model.history.history)\n",
    "losses.plot()"
   ]
  },
  {
   "cell_type": "markdown",
   "id": "46d8a2c4",
   "metadata": {},
   "source": [
    "## Performance evaluation"
   ]
  },
  {
   "cell_type": "code",
   "execution_count": 18,
   "id": "94fe168a",
   "metadata": {},
   "outputs": [],
   "source": [
    "first_eval_batch = scaled_train[-length:]"
   ]
  },
  {
   "cell_type": "code",
   "execution_count": 19,
   "id": "aa3b600f",
   "metadata": {},
   "outputs": [],
   "source": [
    "first_eval_batch = first_eval_batch.reshape((1, length, n_features))"
   ]
  },
  {
   "cell_type": "code",
   "execution_count": 20,
   "id": "e1cf5f1b",
   "metadata": {},
   "outputs": [],
   "source": [
    "# model.predict(first_eval_batch)"
   ]
  },
  {
   "cell_type": "code",
   "execution_count": 21,
   "id": "68023408",
   "metadata": {},
   "outputs": [
    {
     "data": {
      "text/plain": [
       "0.9495513437783747"
      ]
     },
     "execution_count": 21,
     "metadata": {},
     "output_type": "execute_result"
    }
   ],
   "source": [
    "scaled_test[0][0]"
   ]
  },
  {
   "cell_type": "code",
   "execution_count": 22,
   "id": "38e5c15d",
   "metadata": {},
   "outputs": [
    {
     "name": "stdout",
     "output_type": "stream",
     "text": [
      "1/1 [==============================] - 0s 170ms/step\n",
      "1/1 [==============================] - 0s 23ms/step\n",
      "1/1 [==============================] - 0s 22ms/step\n",
      "1/1 [==============================] - 0s 22ms/step\n",
      "1/1 [==============================] - 0s 25ms/step\n",
      "1/1 [==============================] - 0s 22ms/step\n",
      "1/1 [==============================] - 0s 21ms/step\n",
      "1/1 [==============================] - 0s 21ms/step\n",
      "1/1 [==============================] - 0s 23ms/step\n",
      "1/1 [==============================] - 0s 24ms/step\n",
      "1/1 [==============================] - 0s 20ms/step\n",
      "1/1 [==============================] - 0s 22ms/step\n",
      "1/1 [==============================] - 0s 22ms/step\n",
      "1/1 [==============================] - 0s 21ms/step\n",
      "1/1 [==============================] - 0s 24ms/step\n",
      "1/1 [==============================] - 0s 21ms/step\n",
      "1/1 [==============================] - 0s 24ms/step\n",
      "1/1 [==============================] - 0s 22ms/step\n",
      "1/1 [==============================] - 0s 21ms/step\n",
      "1/1 [==============================] - 0s 23ms/step\n",
      "1/1 [==============================] - 0s 23ms/step\n",
      "1/1 [==============================] - 0s 22ms/step\n",
      "1/1 [==============================] - 0s 26ms/step\n",
      "1/1 [==============================] - 0s 22ms/step\n",
      "1/1 [==============================] - 0s 22ms/step\n",
      "1/1 [==============================] - 0s 21ms/step\n",
      "1/1 [==============================] - 0s 24ms/step\n",
      "1/1 [==============================] - 0s 24ms/step\n",
      "1/1 [==============================] - 0s 22ms/step\n",
      "1/1 [==============================] - 0s 21ms/step\n",
      "1/1 [==============================] - 0s 21ms/step\n",
      "1/1 [==============================] - 0s 21ms/step\n",
      "1/1 [==============================] - 0s 22ms/step\n",
      "1/1 [==============================] - 0s 23ms/step\n",
      "1/1 [==============================] - 0s 25ms/step\n",
      "1/1 [==============================] - 0s 21ms/step\n",
      "1/1 [==============================] - 0s 22ms/step\n",
      "1/1 [==============================] - 0s 25ms/step\n",
      "1/1 [==============================] - 0s 24ms/step\n",
      "1/1 [==============================] - 0s 25ms/step\n",
      "1/1 [==============================] - 0s 24ms/step\n",
      "1/1 [==============================] - 0s 24ms/step\n",
      "1/1 [==============================] - 0s 26ms/step\n",
      "1/1 [==============================] - 0s 26ms/step\n",
      "1/1 [==============================] - 0s 26ms/step\n",
      "1/1 [==============================] - 0s 24ms/step\n",
      "1/1 [==============================] - 0s 23ms/step\n",
      "1/1 [==============================] - 0s 23ms/step\n",
      "1/1 [==============================] - 0s 21ms/step\n",
      "1/1 [==============================] - 0s 19ms/step\n"
     ]
    }
   ],
   "source": [
    "test_predictions = []\n",
    "\n",
    "first_eval_batch = scaled_train[-length:]\n",
    "current_batch = first_eval_batch.reshape((1, length, n_features))  \n",
    "\n",
    "for i in range(len(test)):\n",
    "    current_pred = model.predict(current_batch, verbose=1)[0]\n",
    "    test_predictions.append(current_pred)\n",
    "    current_batch = np.append(current_batch[:, 1:, :], [[current_pred]], axis=1)"
   ]
  },
  {
   "cell_type": "code",
   "execution_count": 23,
   "id": "b11cc252",
   "metadata": {},
   "outputs": [],
   "source": [
    "true_predictions = scaler.inverse_transform(test_predictions)"
   ]
  },
  {
   "cell_type": "code",
   "execution_count": 33,
   "id": "dd0ec3f3",
   "metadata": {},
   "outputs": [],
   "source": [
    "# plt.plot(scaled_test)\n",
    "# plt.plot(test_predictions)"
   ]
  },
  {
   "cell_type": "code",
   "execution_count": 25,
   "id": "a0e676f3",
   "metadata": {},
   "outputs": [
    {
     "name": "stderr",
     "output_type": "stream",
     "text": [
      "C:\\Users\\younu\\AppData\\Local\\Temp\\ipykernel_9876\\4269337381.py:1: SettingWithCopyWarning: \n",
      "A value is trying to be set on a copy of a slice from a DataFrame.\n",
      "Try using .loc[row_indexer,col_indexer] = value instead\n",
      "\n",
      "See the caveats in the documentation: https://pandas.pydata.org/pandas-docs/stable/user_guide/indexing.html#returning-a-view-versus-a-copy\n",
      "  test['Predictions'] = true_predictions\n"
     ]
    }
   ],
   "source": [
    "test['Predictions'] = true_predictions"
   ]
  },
  {
   "cell_type": "code",
   "execution_count": 26,
   "id": "f4159055",
   "metadata": {},
   "outputs": [
    {
     "data": {
      "text/plain": [
       "<AxesSubplot:>"
      ]
     },
     "execution_count": 26,
     "metadata": {},
     "output_type": "execute_result"
    },
    {
     "data": {
      "image/png": "[encoded data removed]",
      "text/plain": [
       "<Figure size 1000x400 with 1 Axes>"
      ]
     },
     "metadata": {},
     "output_type": "display_data"
    }
   ],
   "source": [
    "test.plot(figsize = (10,4))"
   ]
  },
  {
   "cell_type": "code",
   "execution_count": 27,
   "id": "fb6ffd99",
   "metadata": {},
   "outputs": [],
   "source": [
    "from tensorflow.keras.callbacks import EarlyStopping\n",
    "\n",
    "early_stop = EarlyStopping(monitor = 'val_loss', patience = 2)"
   ]
  },
  {
   "cell_type": "code",
   "execution_count": 28,
   "id": "f3cbcd85",
   "metadata": {},
   "outputs": [],
   "source": [
    "length = 30\n",
    "\n",
    "generator = TimeseriesGenerator(scaled_train, scaled_train,\n",
    "                                length=length, batch_size=batch_size)\n",
    "val_generator = TimeseriesGenerator(scaled_test, scaled_test,\n",
    "                                length=length, batch_size=batch_size)"
   ]
  },
  {
   "cell_type": "code",
   "execution_count": 29,
   "id": "a0fd49dc",
   "metadata": {},
   "outputs": [],
   "source": [
    "model = Sequential()\n",
    "model.add(LSTM(50, input_shape=(length,n_features)))\n",
    "model.add(Dense(1))\n",
    "\n",
    "model.compile(optimizer='adam', loss='mse')"
   ]
  },
  {
   "cell_type": "code",
   "execution_count": 30,
   "id": "3c0a66ae",
   "metadata": {},
   "outputs": [
    {
     "name": "stdout",
     "output_type": "stream",
     "text": [
      "Epoch 1/20\n",
      "421/421 [==============================] - 6s 10ms/step - loss: 0.0117 - val_loss: 1.8287e-04\n",
      "Epoch 2/20\n",
      "421/421 [==============================] - 4s 9ms/step - loss: 1.7418e-04 - val_loss: 9.8894e-04\n",
      "Epoch 3/20\n",
      "421/421 [==============================] - 4s 9ms/step - loss: 1.8320e-04 - val_loss: 2.8806e-05\n",
      "Epoch 4/20\n",
      "421/421 [==============================] - 4s 9ms/step - loss: 6.4371e-05 - val_loss: 3.5839e-05\n",
      "Epoch 5/20\n",
      "421/421 [==============================] - 3s 8ms/step - loss: 7.1653e-05 - val_loss: 4.8962e-05\n",
      "Epoch 6/20\n",
      "421/421 [==============================] - 4s 8ms/step - loss: 7.0658e-04 - val_loss: 0.0018\n",
      "Epoch 7/20\n",
      "421/421 [==============================] - 4s 9ms/step - loss: 9.7491e-05 - val_loss: 1.7884e-05\n",
      "Epoch 8/20\n",
      "421/421 [==============================] - 4s 9ms/step - loss: 3.6951e-05 - val_loss: 3.7555e-06\n",
      "Epoch 9/20\n",
      "421/421 [==============================] - 4s 9ms/step - loss: 4.6430e-05 - val_loss: 2.8081e-05\n",
      "Epoch 10/20\n",
      "421/421 [==============================] - 4s 9ms/step - loss: 1.7131e-04 - val_loss: 1.0643e-04\n",
      "Epoch 11/20\n",
      "421/421 [==============================] - 4s 9ms/step - loss: 1.0473e-04 - val_loss: 7.1263e-06\n",
      "Epoch 12/20\n",
      "421/421 [==============================] - 4s 9ms/step - loss: 3.7087e-05 - val_loss: 1.5801e-06\n",
      "Epoch 13/20\n",
      "421/421 [==============================] - 4s 9ms/step - loss: 1.1812e-04 - val_loss: 5.5662e-04\n",
      "Epoch 14/20\n",
      "421/421 [==============================] - 4s 9ms/step - loss: 9.1416e-04 - val_loss: 1.5579e-05\n",
      "Epoch 15/20\n",
      "421/421 [==============================] - 4s 9ms/step - loss: 1.2119e-05 - val_loss: 2.5189e-06\n",
      "Epoch 16/20\n",
      "421/421 [==============================] - 3s 8ms/step - loss: 6.4509e-06 - val_loss: 2.2493e-06\n",
      "Epoch 17/20\n",
      "421/421 [==============================] - 3s 8ms/step - loss: 5.8129e-06 - val_loss: 2.1042e-06\n",
      "Epoch 18/20\n",
      "421/421 [==============================] - 3s 8ms/step - loss: 6.6129e-06 - val_loss: 1.0670e-06\n",
      "Epoch 19/20\n",
      "421/421 [==============================] - 4s 9ms/step - loss: 1.2994e-05 - val_loss: 1.3655e-05\n",
      "Epoch 20/20\n",
      "421/421 [==============================] - 4s 8ms/step - loss: 3.5598e-04 - val_loss: 3.7068e-06\n"
     ]
    },
    {
     "data": {
      "text/plain": [
       "<keras.callbacks.History at 0x1a975a41610>"
      ]
     },
     "execution_count": 30,
     "metadata": {},
     "output_type": "execute_result"
    }
   ],
   "source": [
    "model.fit(generator, validation_data=val_generator, epochs=20)"
   ]
  },
  {
   "cell_type": "code",
   "execution_count": 31,
   "id": "0f839e63",
   "metadata": {},
   "outputs": [
    {
     "name": "stdout",
     "output_type": "stream",
     "text": [
      "1/1 [==============================] - 0s 346ms/step\n",
      "1/1 [==============================] - 0s 21ms/step\n",
      "1/1 [==============================] - 0s 22ms/step\n",
      "1/1 [==============================] - 0s 20ms/step\n",
      "1/1 [==============================] - 0s 21ms/step\n",
      "1/1 [==============================] - 0s 24ms/step\n",
      "1/1 [==============================] - 0s 20ms/step\n",
      "1/1 [==============================] - 0s 20ms/step\n",
      "1/1 [==============================] - 0s 21ms/step\n",
      "1/1 [==============================] - 0s 20ms/step\n",
      "1/1 [==============================] - 0s 20ms/step\n",
      "1/1 [==============================] - 0s 22ms/step\n",
      "1/1 [==============================] - 0s 22ms/step\n",
      "1/1 [==============================] - 0s 26ms/step\n",
      "1/1 [==============================] - 0s 20ms/step\n",
      "1/1 [==============================] - 0s 20ms/step\n",
      "1/1 [==============================] - 0s 22ms/step\n",
      "1/1 [==============================] - 0s 21ms/step\n",
      "1/1 [==============================] - 0s 20ms/step\n",
      "1/1 [==============================] - 0s 20ms/step\n",
      "1/1 [==============================] - 0s 20ms/step\n",
      "1/1 [==============================] - 0s 20ms/step\n",
      "1/1 [==============================] - 0s 22ms/step\n",
      "1/1 [==============================] - 0s 21ms/step\n",
      "1/1 [==============================] - 0s 20ms/step\n",
      "1/1 [==============================] - 0s 20ms/step\n",
      "1/1 [==============================] - 0s 20ms/step\n",
      "1/1 [==============================] - 0s 20ms/step\n",
      "1/1 [==============================] - 0s 21ms/step\n",
      "1/1 [==============================] - 0s 20ms/step\n",
      "1/1 [==============================] - 0s 22ms/step\n",
      "1/1 [==============================] - 0s 20ms/step\n",
      "1/1 [==============================] - 0s 21ms/step\n",
      "1/1 [==============================] - 0s 20ms/step\n",
      "1/1 [==============================] - 0s 35ms/step\n",
      "1/1 [==============================] - 0s 31ms/step\n",
      "1/1 [==============================] - 0s 23ms/step\n",
      "1/1 [==============================] - 0s 23ms/step\n",
      "1/1 [==============================] - 0s 20ms/step\n",
      "1/1 [==============================] - 0s 29ms/step\n",
      "1/1 [==============================] - 0s 23ms/step\n",
      "1/1 [==============================] - 0s 23ms/step\n",
      "1/1 [==============================] - 0s 22ms/step\n",
      "1/1 [==============================] - 0s 23ms/step\n",
      "1/1 [==============================] - 0s 22ms/step\n",
      "1/1 [==============================] - 0s 21ms/step\n",
      "1/1 [==============================] - 0s 21ms/step\n",
      "1/1 [==============================] - 0s 22ms/step\n",
      "1/1 [==============================] - 0s 21ms/step\n",
      "1/1 [==============================] - 0s 21ms/step\n"
     ]
    },
    {
     "name": "stderr",
     "output_type": "stream",
     "text": [
      "C:\\Users\\younu\\AppData\\Local\\Temp\\ipykernel_9876\\1853416923.py:12: SettingWithCopyWarning: \n",
      "A value is trying to be set on a copy of a slice from a DataFrame.\n",
      "Try using .loc[row_indexer,col_indexer] = value instead\n",
      "\n",
      "See the caveats in the documentation: https://pandas.pydata.org/pandas-docs/stable/user_guide/indexing.html#returning-a-view-versus-a-copy\n",
      "  test['Predictions_lstm'] = true_predictions\n"
     ]
    }
   ],
   "source": [
    "test_predictions = []\n",
    "\n",
    "first_eval_batch = scaled_train[-length:]\n",
    "current_batch = first_eval_batch.reshape((1, length, n_features))  \n",
    "\n",
    "for i in range(len(test)):\n",
    "    current_pred = model.predict(current_batch, verbose=1)[0]\n",
    "    test_predictions.append(current_pred)\n",
    "    current_batch = np.append(current_batch[:, 1:, :], [[current_pred]], axis=1)\n",
    "    \n",
    "true_predictions = scaler.inverse_transform(test_predictions)\n",
    "test['Predictions_lstm'] = true_predictions\n"
   ]
  },
  {
   "cell_type": "code",
   "execution_count": 32,
   "id": "d1879ac1",
   "metadata": {},
   "outputs": [
    {
     "data": {
      "text/plain": [
       "<AxesSubplot:>"
      ]
     },
     "execution_count": 32,
     "metadata": {},
     "output_type": "execute_result"
    },
    {
     "data": {
      "image/png": "[encoded data removed]",
      "text/plain": [
       "<Figure size 1000x400 with 1 Axes>"
      ]
     },
     "metadata": {},
     "output_type": "display_data"
    }
   ],
   "source": [
    "test.plot(figsize = (10,4))"
   ]
  },
  {
   "cell_type": "markdown",
   "id": "f99e1c66",
   "metadata": {},
   "source": [
    "## Train on full dataset"
   ]
  },
  {
   "cell_type": "code",
   "execution_count": null,
   "id": "34816f90",
   "metadata": {},
   "outputs": [],
   "source": []
  }
 ],
 "metadata": {
  "kernelspec": {
   "display_name": "Python 3 (ipykernel)",
   "language": "python",
   "name": "python3"
  },
  "language_info": {
   "codemirror_mode": {
    "name": "ipython",
    "version": 3
   },
   "file_extension": ".py",
   "mimetype": "text/x-python",
   "name": "python",
   "nbconvert_exporter": "python",
   "pygments_lexer": "ipython3",
   "version": "3.9.6"
  }
 },
 "nbformat": 4,
 "nbformat_minor": 5
}
