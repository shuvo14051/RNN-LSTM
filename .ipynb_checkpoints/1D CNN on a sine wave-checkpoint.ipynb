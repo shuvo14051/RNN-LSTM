{
 "cells": [
  {
   "cell_type": "markdown",
   "id": "a83f98da",
   "metadata": {},
   "source": [
    "## Necessary libraries"
   ]
  },
  {
   "cell_type": "code",
   "execution_count": 1,
   "id": "1206c640",
   "metadata": {},
   "outputs": [],
   "source": [
    "import pandas as pd\n",
    "import numpy as np\n",
    "import matplotlib.pyplot as plt\n",
    "import seaborn as sns"
   ]
  },
  {
   "cell_type": "markdown",
   "id": "93e0b39a",
   "metadata": {},
   "source": [
    "## Creating the sine wave dataset"
   ]
  },
  {
   "cell_type": "code",
   "execution_count": 2,
   "id": "44f467cb",
   "metadata": {},
   "outputs": [],
   "source": [
    "x = np.linspace(0,50,501)\n",
    "y = np.sin(x)\n",
    "# plt.plot(x,y)"
   ]
  },
  {
   "cell_type": "code",
   "execution_count": 3,
   "id": "5ea3464d",
   "metadata": {},
   "outputs": [
    {
     "data": {
      "text/html": [
       "<div>\n",
       "<style scoped>\n",
       "    .dataframe tbody tr th:only-of-type {\n",
       "        vertical-align: middle;\n",
       "    }\n",
       "\n",
       "    .dataframe tbody tr th {\n",
       "        vertical-align: top;\n",
       "    }\n",
       "\n",
       "    .dataframe thead th {\n",
       "        text-align: right;\n",
       "    }\n",
       "</style>\n",
       "<table border=\"1\" class=\"dataframe\">\n",
       "  <thead>\n",
       "    <tr style=\"text-align: right;\">\n",
       "      <th></th>\n",
       "      <th>Sines</th>\n",
       "    </tr>\n",
       "  </thead>\n",
       "  <tbody>\n",
       "    <tr>\n",
       "      <th>49.6</th>\n",
       "      <td>-0.617439</td>\n",
       "    </tr>\n",
       "    <tr>\n",
       "      <th>49.7</th>\n",
       "      <td>-0.535823</td>\n",
       "    </tr>\n",
       "    <tr>\n",
       "      <th>49.8</th>\n",
       "      <td>-0.448854</td>\n",
       "    </tr>\n",
       "    <tr>\n",
       "      <th>49.9</th>\n",
       "      <td>-0.357400</td>\n",
       "    </tr>\n",
       "    <tr>\n",
       "      <th>50.0</th>\n",
       "      <td>-0.262375</td>\n",
       "    </tr>\n",
       "  </tbody>\n",
       "</table>\n",
       "</div>"
      ],
      "text/plain": [
       "         Sines\n",
       "49.6 -0.617439\n",
       "49.7 -0.535823\n",
       "49.8 -0.448854\n",
       "49.9 -0.357400\n",
       "50.0 -0.262375"
      ]
     },
     "execution_count": 3,
     "metadata": {},
     "output_type": "execute_result"
    }
   ],
   "source": [
    "df = pd.DataFrame(data=y, index=x, columns = ['Sines'])\n",
    "df.tail()"
   ]
  },
  {
   "cell_type": "markdown",
   "id": "c9e1141a",
   "metadata": {},
   "source": [
    "## Train test split the dataset"
   ]
  },
  {
   "cell_type": "code",
   "execution_count": 4,
   "id": "256acaad",
   "metadata": {},
   "outputs": [
    {
     "data": {
      "text/plain": [
       "50.1"
      ]
     },
     "execution_count": 4,
     "metadata": {},
     "output_type": "execute_result"
    }
   ],
   "source": [
    "test_percent = 0.1\n",
    "len(df)*test_percent"
   ]
  },
  {
   "cell_type": "code",
   "execution_count": 5,
   "id": "78b4bc53",
   "metadata": {},
   "outputs": [
    {
     "data": {
      "text/plain": [
       "50.0"
      ]
     },
     "execution_count": 5,
     "metadata": {},
     "output_type": "execute_result"
    }
   ],
   "source": [
    "test_point = np.round(len(df)*test_percent)\n",
    "test_point"
   ]
  },
  {
   "cell_type": "code",
   "execution_count": 6,
   "id": "288adaeb",
   "metadata": {},
   "outputs": [],
   "source": [
    "test_index = int(len(df)-test_point)\n",
    "train = df.iloc[:test_index]\n",
    "test = df.iloc[test_index:]"
   ]
  },
  {
   "cell_type": "code",
   "execution_count": 7,
   "id": "baafee3c",
   "metadata": {},
   "outputs": [
    {
     "name": "stdout",
     "output_type": "stream",
     "text": [
      "(451, 1) (50, 1)\n"
     ]
    }
   ],
   "source": [
    "print(train.shape, test.shape)"
   ]
  },
  {
   "cell_type": "markdown",
   "id": "c757a6ad",
   "metadata": {},
   "source": [
    "## Scaling"
   ]
  },
  {
   "cell_type": "code",
   "execution_count": 8,
   "id": "12cbd89e",
   "metadata": {},
   "outputs": [],
   "source": [
    "from sklearn.preprocessing import MinMaxScaler\n",
    "scaler = MinMaxScaler()\n",
    "scaler.fit(train)\n",
    "scaled_train = scaler.transform(train)\n",
    "scaled_test = scaler.transform(test)"
   ]
  },
  {
   "cell_type": "code",
   "execution_count": 9,
   "id": "e2498552",
   "metadata": {},
   "outputs": [],
   "source": [
    "from tensorflow.keras.preprocessing.sequence import TimeseriesGenerator\n",
    "\n",
    "length = 30\n",
    "batch_size = 1\n",
    "\n",
    "generator = TimeseriesGenerator(scaled_train, scaled_train,\n",
    "                                length=length, batch_size=batch_size)\n",
    "val_generator = TimeseriesGenerator(scaled_test, scaled_test,\n",
    "                                length=length, batch_size=batch_size)"
   ]
  },
  {
   "cell_type": "code",
   "execution_count": 11,
   "id": "3709c987",
   "metadata": {},
   "outputs": [],
   "source": [
    "from keras.models import Sequential\n",
    "from keras.layers import Conv1D, MaxPooling1D, Flatten, Dense\n",
    "\n",
    "n_features = 1\n",
    "\n",
    "model = Sequential()\n",
    "model.add(Conv1D(filters=64, kernel_size=3, activation='relu', input_shape=(length,n_features)))\n",
    "model.add(MaxPooling1D(pool_size=2))\n",
    "model.add(Flatten())\n",
    "model.add(Dense(50, activation='relu'))\n",
    "model.add(Dense(1, activation='linear'))\n",
    "\n",
    "model.compile(optimizer='adam', loss='mse')"
   ]
  },
  {
   "cell_type": "code",
   "execution_count": 12,
   "id": "da23b28e",
   "metadata": {
    "scrolled": true
   },
   "outputs": [
    {
     "name": "stdout",
     "output_type": "stream",
     "text": [
      "Epoch 1/20\n",
      "421/421 [==============================] - 2s 3ms/step - loss: 0.0091 - val_loss: 4.3977e-06\n",
      "Epoch 2/20\n",
      "421/421 [==============================] - 1s 3ms/step - loss: 1.3503e-04 - val_loss: 2.2865e-04\n",
      "Epoch 3/20\n",
      "421/421 [==============================] - 1s 3ms/step - loss: 0.0012 - val_loss: 4.9176e-04\n",
      "Epoch 4/20\n",
      "421/421 [==============================] - 1s 3ms/step - loss: 0.0019 - val_loss: 8.6744e-05\n",
      "Epoch 5/20\n",
      "421/421 [==============================] - 1s 3ms/step - loss: 6.8208e-05 - val_loss: 1.0889e-06\n",
      "Epoch 6/20\n",
      "421/421 [==============================] - 1s 2ms/step - loss: 1.3737e-05 - val_loss: 7.1445e-06\n",
      "Epoch 7/20\n",
      "421/421 [==============================] - 1s 2ms/step - loss: 1.2638e-04 - val_loss: 2.5002e-04\n",
      "Epoch 8/20\n",
      "421/421 [==============================] - 1s 2ms/step - loss: 6.9384e-04 - val_loss: 9.4683e-05\n",
      "Epoch 9/20\n",
      "421/421 [==============================] - 1s 2ms/step - loss: 8.0938e-04 - val_loss: 1.7194e-05\n",
      "Epoch 10/20\n",
      "421/421 [==============================] - 1s 2ms/step - loss: 1.0913e-04 - val_loss: 3.1424e-05\n",
      "Epoch 11/20\n",
      "421/421 [==============================] - 1s 2ms/step - loss: 0.0010 - val_loss: 1.4968e-05\n",
      "Epoch 12/20\n",
      "421/421 [==============================] - 1s 2ms/step - loss: 3.2727e-05 - val_loss: 4.4221e-05\n",
      "Epoch 13/20\n",
      "421/421 [==============================] - 1s 2ms/step - loss: 5.1264e-04 - val_loss: 3.7088e-05\n",
      "Epoch 14/20\n",
      "421/421 [==============================] - 1s 2ms/step - loss: 7.9772e-05 - val_loss: 3.0653e-05\n",
      "Epoch 15/20\n",
      "421/421 [==============================] - 1s 2ms/step - loss: 1.5535e-05 - val_loss: 2.0508e-06\n",
      "Epoch 16/20\n",
      "421/421 [==============================] - 1s 2ms/step - loss: 4.7796e-04 - val_loss: 0.0012\n",
      "Epoch 17/20\n",
      "421/421 [==============================] - 1s 2ms/step - loss: 0.0026 - val_loss: 4.7909e-06\n",
      "Epoch 18/20\n",
      "421/421 [==============================] - 1s 2ms/step - loss: 3.9588e-06 - val_loss: 1.5582e-06\n",
      "Epoch 19/20\n",
      "421/421 [==============================] - 1s 3ms/step - loss: 2.6505e-06 - val_loss: 8.9726e-07\n",
      "Epoch 20/20\n",
      "421/421 [==============================] - 1s 3ms/step - loss: 2.3109e-06 - val_loss: 2.6264e-06\n"
     ]
    },
    {
     "data": {
      "text/plain": [
       "<keras.callbacks.History at 0x21fb9471ac0>"
      ]
     },
     "execution_count": 12,
     "metadata": {},
     "output_type": "execute_result"
    }
   ],
   "source": [
    "model.fit(generator, validation_data=val_generator, epochs=20)"
   ]
  },
  {
   "cell_type": "code",
   "execution_count": 13,
   "id": "69a0fbe1",
   "metadata": {},
   "outputs": [
    {
     "name": "stderr",
     "output_type": "stream",
     "text": [
      "C:\\Users\\younu\\AppData\\Local\\Temp\\ipykernel_14928\\517022708.py:12: SettingWithCopyWarning: \n",
      "A value is trying to be set on a copy of a slice from a DataFrame.\n",
      "Try using .loc[row_indexer,col_indexer] = value instead\n",
      "\n",
      "See the caveats in the documentation: https://pandas.pydata.org/pandas-docs/stable/user_guide/indexing.html#returning-a-view-versus-a-copy\n",
      "  test['Predictions_lstm'] = true_predictions\n"
     ]
    }
   ],
   "source": [
    "test_predictions = []\n",
    "\n",
    "first_eval_batch = scaled_train[-length:]\n",
    "current_batch = first_eval_batch.reshape((1, length, n_features))  \n",
    "\n",
    "for i in range(len(test)):\n",
    "    current_pred = model.predict(current_batch, verbose=0)[0]\n",
    "    test_predictions.append(current_pred)\n",
    "    current_batch = np.append(current_batch[:, 1:, :], [[current_pred]], axis=1)\n",
    "    \n",
    "true_predictions = scaler.inverse_transform(test_predictions)\n",
    "test['Predictions_lstm'] = true_predictions\n"
   ]
  },
  {
   "cell_type": "code",
   "execution_count": 14,
   "id": "55ca826a",
   "metadata": {},
   "outputs": [
    {
     "data": {
      "text/plain": [
       "<AxesSubplot:>"
      ]
     },
     "execution_count": 14,
     "metadata": {},
     "output_type": "execute_result"
    },
    {
     "data": {
      "image/png": "[encoded data removed]",
      "text/plain": [
       "<Figure size 1000x400 with 1 Axes>"
      ]
     },
     "metadata": {},
     "output_type": "display_data"
    }
   ],
   "source": [
    "test.plot(figsize = (10,4))"
   ]
  },
  {
   "cell_type": "markdown",
   "id": "c51a52b1",
   "metadata": {},
   "source": [
    "## Train on full dataset"
   ]
  },
  {
   "cell_type": "code",
   "execution_count": 15,
   "id": "5e54ab84",
   "metadata": {},
   "outputs": [],
   "source": [
    "full_scaler = MinMaxScaler()\n",
    "scaled_full_data = full_scaler.fit_transform(df)"
   ]
  },
  {
   "cell_type": "code",
   "execution_count": 16,
   "id": "f371f03b",
   "metadata": {},
   "outputs": [],
   "source": [
    "generator = TimeseriesGenerator(scaled_full_data, scaled_full_data,\n",
    "                                length=length, batch_size=batch_size)"
   ]
  },
  {
   "cell_type": "code",
   "execution_count": 17,
   "id": "c4862138",
   "metadata": {},
   "outputs": [],
   "source": [
    "model = Sequential()\n",
    "\n",
    "model.add(Conv1D(filters=64, kernel_size=3, activation='relu', input_shape=(length,n_features)))\n",
    "model.add(MaxPooling1D(pool_size=2))\n",
    "model.add(Flatten())\n",
    "model.add(Dense(50, activation='relu'))\n",
    "model.add(Dense(1, activation='linear'))\n",
    "\n",
    "\n",
    "model.compile(optimizer='adam', loss='mse')"
   ]
  },
  {
   "cell_type": "code",
   "execution_count": 18,
   "id": "f3dc84db",
   "metadata": {},
   "outputs": [
    {
     "name": "stdout",
     "output_type": "stream",
     "text": [
      "Epoch 1/10\n",
      "471/471 [==============================] - 2s 2ms/step - loss: 0.0063\n",
      "Epoch 2/10\n",
      "471/471 [==============================] - 1s 2ms/step - loss: 0.0011\n",
      "Epoch 3/10\n",
      "471/471 [==============================] - 1s 3ms/step - loss: 0.0015\n",
      "Epoch 4/10\n",
      "471/471 [==============================] - 1s 2ms/step - loss: 1.0873e-04\n",
      "Epoch 5/10\n",
      "471/471 [==============================] - 1s 2ms/step - loss: 2.1933e-04\n",
      "Epoch 6/10\n",
      "471/471 [==============================] - 1s 2ms/step - loss: 0.0015\n",
      "Epoch 7/10\n",
      "471/471 [==============================] - 1s 2ms/step - loss: 1.7119e-05\n",
      "Epoch 8/10\n",
      "471/471 [==============================] - 1s 2ms/step - loss: 1.5727e-04\n",
      "Epoch 9/10\n",
      "471/471 [==============================] - 1s 2ms/step - loss: 3.6139e-04\n",
      "Epoch 10/10\n",
      "471/471 [==============================] - 1s 2ms/step - loss: 6.4171e-04\n"
     ]
    },
    {
     "data": {
      "text/plain": [
       "<keras.callbacks.History at 0x21fbf64c4c0>"
      ]
     },
     "execution_count": 18,
     "metadata": {},
     "output_type": "execute_result"
    }
   ],
   "source": [
    "model.fit(generator, epochs=10)"
   ]
  },
  {
   "cell_type": "code",
   "execution_count": 19,
   "id": "26ceba55",
   "metadata": {},
   "outputs": [],
   "source": [
    "forecast = []\n",
    "\n",
    "first_eval_batch = scaled_train[-length:]\n",
    "current_batch = first_eval_batch.reshape((1, length, n_features))  \n",
    "\n",
    "for i in range(100):\n",
    "    current_pred = model.predict(current_batch, verbose=0)[0]\n",
    "    forecast.append(current_pred)\n",
    "    current_batch = np.append(current_batch[:, 1:, :], [[current_pred]], axis=1)"
   ]
  },
  {
   "cell_type": "code",
   "execution_count": 20,
   "id": "f8b2a31f",
   "metadata": {},
   "outputs": [],
   "source": [
    "forecast = scaler.inverse_transform(forecast)"
   ]
  },
  {
   "cell_type": "code",
   "execution_count": 21,
   "id": "1fc40865",
   "metadata": {},
   "outputs": [],
   "source": [
    "forecast_index = np.arange(50.1, 60.1, step=0.1)"
   ]
  },
  {
   "cell_type": "code",
   "execution_count": 22,
   "id": "05541781",
   "metadata": {},
   "outputs": [
    {
     "data": {
      "text/plain": [
       "(100, 100)"
      ]
     },
     "execution_count": 22,
     "metadata": {},
     "output_type": "execute_result"
    }
   ],
   "source": [
    "len(forecast_index), len(forecast)"
   ]
  },
  {
   "cell_type": "code",
   "execution_count": 23,
   "id": "f6ddd00d",
   "metadata": {},
   "outputs": [
    {
     "data": {
      "text/plain": [
       "10.0"
      ]
     },
     "execution_count": 23,
     "metadata": {},
     "output_type": "execute_result"
    }
   ],
   "source": [
    "100*.1"
   ]
  },
  {
   "cell_type": "code",
   "execution_count": 24,
   "id": "633632ba",
   "metadata": {},
   "outputs": [
    {
     "data": {
      "text/plain": [
       "[<matplotlib.lines.Line2D at 0x21fbf3109d0>]"
      ]
     },
     "execution_count": 24,
     "metadata": {},
     "output_type": "execute_result"
    },
    {
     "data": {
      "image/png": "[encoded data removed]",
      "text/plain": [
       "<Figure size 640x480 with 1 Axes>"
      ]
     },
     "metadata": {},
     "output_type": "display_data"
    }
   ],
   "source": [
    "plt.plot(df.index, df['Sines'])\n",
    "plt.plot(forecast_index, forecast)"
   ]
  },
  {
   "cell_type": "code",
   "execution_count": null,
   "id": "2cb75758",
   "metadata": {},
   "outputs": [],
   "source": []
  }
 ],
 "metadata": {
  "kernelspec": {
   "display_name": "Python 3 (ipykernel)",
   "language": "python",
   "name": "python3"
  },
  "language_info": {
   "codemirror_mode": {
    "name": "ipython",
    "version": 3
   },
   "file_extension": ".py",
   "mimetype": "text/x-python",
   "name": "python",
   "nbconvert_exporter": "python",
   "pygments_lexer": "ipython3",
   "version": "3.9.6"
  }
 },
 "nbformat": 4,
 "nbformat_minor": 5
}
