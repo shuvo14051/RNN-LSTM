{
 "cells": [
  {
   "cell_type": "code",
   "execution_count": 1,
   "id": "b19c80f3",
   "metadata": {},
   "outputs": [],
   "source": [
    "import pandas as pd\n",
    "import numpy as np\n",
    "import matplotlib.pyplot as plt"
   ]
  },
  {
   "cell_type": "code",
   "execution_count": 2,
   "id": "5d6ae3a3",
   "metadata": {},
   "outputs": [
    {
     "data": {
      "text/html": [
       "<div>\n",
       "<style scoped>\n",
       "    .dataframe tbody tr th:only-of-type {\n",
       "        vertical-align: middle;\n",
       "    }\n",
       "\n",
       "    .dataframe tbody tr th {\n",
       "        vertical-align: top;\n",
       "    }\n",
       "\n",
       "    .dataframe thead th {\n",
       "        text-align: right;\n",
       "    }\n",
       "</style>\n",
       "<table border=\"1\" class=\"dataframe\">\n",
       "  <thead>\n",
       "    <tr style=\"text-align: right;\">\n",
       "      <th></th>\n",
       "      <th>Appliances</th>\n",
       "      <th>lights</th>\n",
       "      <th>T1</th>\n",
       "      <th>RH_1</th>\n",
       "      <th>T2</th>\n",
       "      <th>RH_2</th>\n",
       "      <th>T3</th>\n",
       "      <th>RH_3</th>\n",
       "      <th>T4</th>\n",
       "      <th>RH_4</th>\n",
       "      <th>...</th>\n",
       "      <th>T9</th>\n",
       "      <th>RH_9</th>\n",
       "      <th>T_out</th>\n",
       "      <th>Press_mm_hg</th>\n",
       "      <th>RH_out</th>\n",
       "      <th>Windspeed</th>\n",
       "      <th>Visibility</th>\n",
       "      <th>Tdewpoint</th>\n",
       "      <th>rv1</th>\n",
       "      <th>rv2</th>\n",
       "    </tr>\n",
       "    <tr>\n",
       "      <th>date</th>\n",
       "      <th></th>\n",
       "      <th></th>\n",
       "      <th></th>\n",
       "      <th></th>\n",
       "      <th></th>\n",
       "      <th></th>\n",
       "      <th></th>\n",
       "      <th></th>\n",
       "      <th></th>\n",
       "      <th></th>\n",
       "      <th></th>\n",
       "      <th></th>\n",
       "      <th></th>\n",
       "      <th></th>\n",
       "      <th></th>\n",
       "      <th></th>\n",
       "      <th></th>\n",
       "      <th></th>\n",
       "      <th></th>\n",
       "      <th></th>\n",
       "      <th></th>\n",
       "    </tr>\n",
       "  </thead>\n",
       "  <tbody>\n",
       "    <tr>\n",
       "      <th>2016-05-27 17:20:00</th>\n",
       "      <td>100</td>\n",
       "      <td>0</td>\n",
       "      <td>25.566667</td>\n",
       "      <td>46.560000</td>\n",
       "      <td>25.890000</td>\n",
       "      <td>42.025714</td>\n",
       "      <td>27.200000</td>\n",
       "      <td>41.163333</td>\n",
       "      <td>24.7</td>\n",
       "      <td>45.590000</td>\n",
       "      <td>...</td>\n",
       "      <td>23.2</td>\n",
       "      <td>46.7900</td>\n",
       "      <td>22.733333</td>\n",
       "      <td>755.2</td>\n",
       "      <td>55.666667</td>\n",
       "      <td>3.333333</td>\n",
       "      <td>23.666667</td>\n",
       "      <td>13.333333</td>\n",
       "      <td>43.096812</td>\n",
       "      <td>43.096812</td>\n",
       "    </tr>\n",
       "    <tr>\n",
       "      <th>2016-05-27 17:30:00</th>\n",
       "      <td>90</td>\n",
       "      <td>0</td>\n",
       "      <td>25.500000</td>\n",
       "      <td>46.500000</td>\n",
       "      <td>25.754000</td>\n",
       "      <td>42.080000</td>\n",
       "      <td>27.133333</td>\n",
       "      <td>41.223333</td>\n",
       "      <td>24.7</td>\n",
       "      <td>45.590000</td>\n",
       "      <td>...</td>\n",
       "      <td>23.2</td>\n",
       "      <td>46.7900</td>\n",
       "      <td>22.600000</td>\n",
       "      <td>755.2</td>\n",
       "      <td>56.000000</td>\n",
       "      <td>3.500000</td>\n",
       "      <td>24.500000</td>\n",
       "      <td>13.300000</td>\n",
       "      <td>49.282940</td>\n",
       "      <td>49.282940</td>\n",
       "    </tr>\n",
       "    <tr>\n",
       "      <th>2016-05-27 17:40:00</th>\n",
       "      <td>270</td>\n",
       "      <td>10</td>\n",
       "      <td>25.500000</td>\n",
       "      <td>46.596667</td>\n",
       "      <td>25.628571</td>\n",
       "      <td>42.768571</td>\n",
       "      <td>27.050000</td>\n",
       "      <td>41.690000</td>\n",
       "      <td>24.7</td>\n",
       "      <td>45.730000</td>\n",
       "      <td>...</td>\n",
       "      <td>23.2</td>\n",
       "      <td>46.7900</td>\n",
       "      <td>22.466667</td>\n",
       "      <td>755.2</td>\n",
       "      <td>56.333333</td>\n",
       "      <td>3.666667</td>\n",
       "      <td>25.333333</td>\n",
       "      <td>13.266667</td>\n",
       "      <td>29.199117</td>\n",
       "      <td>29.199117</td>\n",
       "    </tr>\n",
       "    <tr>\n",
       "      <th>2016-05-27 17:50:00</th>\n",
       "      <td>420</td>\n",
       "      <td>10</td>\n",
       "      <td>25.500000</td>\n",
       "      <td>46.990000</td>\n",
       "      <td>25.414000</td>\n",
       "      <td>43.036000</td>\n",
       "      <td>26.890000</td>\n",
       "      <td>41.290000</td>\n",
       "      <td>24.7</td>\n",
       "      <td>45.790000</td>\n",
       "      <td>...</td>\n",
       "      <td>23.2</td>\n",
       "      <td>46.8175</td>\n",
       "      <td>22.333333</td>\n",
       "      <td>755.2</td>\n",
       "      <td>56.666667</td>\n",
       "      <td>3.833333</td>\n",
       "      <td>26.166667</td>\n",
       "      <td>13.233333</td>\n",
       "      <td>6.322784</td>\n",
       "      <td>6.322784</td>\n",
       "    </tr>\n",
       "    <tr>\n",
       "      <th>2016-05-27 18:00:00</th>\n",
       "      <td>430</td>\n",
       "      <td>10</td>\n",
       "      <td>25.500000</td>\n",
       "      <td>46.600000</td>\n",
       "      <td>25.264286</td>\n",
       "      <td>42.971429</td>\n",
       "      <td>26.823333</td>\n",
       "      <td>41.156667</td>\n",
       "      <td>24.7</td>\n",
       "      <td>45.963333</td>\n",
       "      <td>...</td>\n",
       "      <td>23.2</td>\n",
       "      <td>46.8450</td>\n",
       "      <td>22.200000</td>\n",
       "      <td>755.2</td>\n",
       "      <td>57.000000</td>\n",
       "      <td>4.000000</td>\n",
       "      <td>27.000000</td>\n",
       "      <td>13.200000</td>\n",
       "      <td>34.118851</td>\n",
       "      <td>34.118851</td>\n",
       "    </tr>\n",
       "  </tbody>\n",
       "</table>\n",
       "<p>5 rows × 28 columns</p>\n",
       "</div>"
      ],
      "text/plain": [
       "                     Appliances  lights         T1       RH_1         T2  \\\n",
       "date                                                                       \n",
       "2016-05-27 17:20:00         100       0  25.566667  46.560000  25.890000   \n",
       "2016-05-27 17:30:00          90       0  25.500000  46.500000  25.754000   \n",
       "2016-05-27 17:40:00         270      10  25.500000  46.596667  25.628571   \n",
       "2016-05-27 17:50:00         420      10  25.500000  46.990000  25.414000   \n",
       "2016-05-27 18:00:00         430      10  25.500000  46.600000  25.264286   \n",
       "\n",
       "                          RH_2         T3       RH_3    T4       RH_4  ...  \\\n",
       "date                                                                   ...   \n",
       "2016-05-27 17:20:00  42.025714  27.200000  41.163333  24.7  45.590000  ...   \n",
       "2016-05-27 17:30:00  42.080000  27.133333  41.223333  24.7  45.590000  ...   \n",
       "2016-05-27 17:40:00  42.768571  27.050000  41.690000  24.7  45.730000  ...   \n",
       "2016-05-27 17:50:00  43.036000  26.890000  41.290000  24.7  45.790000  ...   \n",
       "2016-05-27 18:00:00  42.971429  26.823333  41.156667  24.7  45.963333  ...   \n",
       "\n",
       "                       T9     RH_9      T_out  Press_mm_hg     RH_out  \\\n",
       "date                                                                    \n",
       "2016-05-27 17:20:00  23.2  46.7900  22.733333        755.2  55.666667   \n",
       "2016-05-27 17:30:00  23.2  46.7900  22.600000        755.2  56.000000   \n",
       "2016-05-27 17:40:00  23.2  46.7900  22.466667        755.2  56.333333   \n",
       "2016-05-27 17:50:00  23.2  46.8175  22.333333        755.2  56.666667   \n",
       "2016-05-27 18:00:00  23.2  46.8450  22.200000        755.2  57.000000   \n",
       "\n",
       "                     Windspeed  Visibility  Tdewpoint        rv1        rv2  \n",
       "date                                                                         \n",
       "2016-05-27 17:20:00   3.333333   23.666667  13.333333  43.096812  43.096812  \n",
       "2016-05-27 17:30:00   3.500000   24.500000  13.300000  49.282940  49.282940  \n",
       "2016-05-27 17:40:00   3.666667   25.333333  13.266667  29.199117  29.199117  \n",
       "2016-05-27 17:50:00   3.833333   26.166667  13.233333   6.322784   6.322784  \n",
       "2016-05-27 18:00:00   4.000000   27.000000  13.200000  34.118851  34.118851  \n",
       "\n",
       "[5 rows x 28 columns]"
      ]
     },
     "execution_count": 2,
     "metadata": {},
     "output_type": "execute_result"
    }
   ],
   "source": [
    "url = \"https://raw.githubusercontent.com/LuisM78/Appliances-energy-prediction-data/master/energydata_complete.csv\"\n",
    "df = pd.read_csv(url, infer_datetime_format=True, index_col=['date'])\n",
    "df.tail()"
   ]
  },
  {
   "cell_type": "code",
   "execution_count": 3,
   "id": "8925964f",
   "metadata": {},
   "outputs": [
    {
     "data": {
      "text/plain": [
       "(3853, 28)"
      ]
     },
     "execution_count": 3,
     "metadata": {},
     "output_type": "execute_result"
    }
   ],
   "source": [
    "df = df.loc[\"2016-05-01\":]\n",
    "df.shape"
   ]
  },
  {
   "cell_type": "code",
   "execution_count": 4,
   "id": "163aff65",
   "metadata": {},
   "outputs": [],
   "source": [
    "df = df.round(2)"
   ]
  },
  {
   "cell_type": "code",
   "execution_count": 5,
   "id": "a2bebaaa",
   "metadata": {},
   "outputs": [
    {
     "data": {
      "text/plain": [
       "[<matplotlib.lines.Line2D at 0x210c3ee7730>]"
      ]
     },
     "execution_count": 5,
     "metadata": {},
     "output_type": "execute_result"
    },
    {
     "data": {
      "image/png": "[encoded data removed]",
      "text/plain": [
       "<Figure size 640x480 with 1 Axes>"
      ]
     },
     "metadata": {},
     "output_type": "display_data"
    }
   ],
   "source": [
    "plt.plot(df['T1'])"
   ]
  },
  {
   "cell_type": "code",
   "execution_count": 6,
   "id": "189ba034",
   "metadata": {},
   "outputs": [],
   "source": [
    "# If I want to take 2 days data as test set\n",
    "# Let's first see how many rows we have in one day\n",
    "# The data we have in 10 minutes interval\n",
    "# total minutes in a day 24*60\n",
    "# total rows (24*60)/10\n",
    "size = (24*60)//10"
   ]
  },
  {
   "cell_type": "code",
   "execution_count": 7,
   "id": "51e9e19c",
   "metadata": {},
   "outputs": [
    {
     "data": {
      "text/plain": [
       "288"
      ]
     },
     "execution_count": 7,
     "metadata": {},
     "output_type": "execute_result"
    }
   ],
   "source": [
    "test_days = 2\n",
    "test_index = size*test_days\n",
    "test_index"
   ]
  },
  {
   "cell_type": "code",
   "execution_count": 8,
   "id": "9e45cc0f",
   "metadata": {},
   "outputs": [],
   "source": [
    "train = df.iloc[test_index:]\n",
    "test = df.iloc[:test_index]"
   ]
  },
  {
   "cell_type": "code",
   "execution_count": 9,
   "id": "fa981a45",
   "metadata": {},
   "outputs": [
    {
     "data": {
      "text/plain": [
       "((3565, 28), (288, 28))"
      ]
     },
     "execution_count": 9,
     "metadata": {},
     "output_type": "execute_result"
    }
   ],
   "source": [
    "train.shape, test.shape"
   ]
  },
  {
   "cell_type": "code",
   "execution_count": 10,
   "id": "d67e4349",
   "metadata": {},
   "outputs": [],
   "source": [
    "from sklearn.preprocessing import MinMaxScaler\n",
    "scaler = MinMaxScaler()\n",
    "scaler.fit(train)\n",
    "scaled_train = scaler.transform(train)\n",
    "scaled_test = scaler.transform(test)"
   ]
  },
  {
   "cell_type": "code",
   "execution_count": 11,
   "id": "e0d12ab5",
   "metadata": {},
   "outputs": [],
   "source": [
    "from tensorflow.keras.preprocessing.sequence import TimeseriesGenerator\n",
    "length = 144\n",
    "batch_size = 1\n",
    "generator = TimeseriesGenerator(scaled_train, scaled_train,\n",
    "                                length=length, batch_size=batch_size)\n",
    "val_generator = TimeseriesGenerator(scaled_test, scaled_test,\n",
    "                                length=length, batch_size=batch_size)"
   ]
  },
  {
   "cell_type": "code",
   "execution_count": 12,
   "id": "ab64c7e7",
   "metadata": {},
   "outputs": [],
   "source": [
    "import tensorflow as tf\n",
    "from tensorflow.keras.models import Sequential\n",
    "from tensorflow.keras.layers import Dense, SimpleRNN, LSTM, Dropout\n",
    "\n",
    "\"\"\"This is the first change compared to univariate analysis\"\"\"\n",
    "n_features = scaled_train.shape[1]\n",
    "\n",
    "model = Sequential()\n",
    "model.add(LSTM(100, activation='relu', input_shape=(length,n_features)))\n",
    "\n",
    "\"\"\"\n",
    "This is the 2nd change\n",
    "Dense should have the neurons equal to the number of features\n",
    "\"\"\"\n",
    "model.add(Dense(n_features))\n",
    "\n",
    "model.compile(optimizer='adam', loss='mse')"
   ]
  },
  {
   "cell_type": "code",
   "execution_count": 13,
   "id": "eadd3cd6",
   "metadata": {},
   "outputs": [
    {
     "name": "stdout",
     "output_type": "stream",
     "text": [
      "Model: \"sequential\"\n",
      "_________________________________________________________________\n",
      " Layer (type)                Output Shape              Param #   \n",
      "=================================================================\n",
      " lstm (LSTM)                 (None, 100)               51600     \n",
      "                                                                 \n",
      " dense (Dense)               (None, 28)                2828      \n",
      "                                                                 \n",
      "=================================================================\n",
      "Total params: 54,428\n",
      "Trainable params: 54,428\n",
      "Non-trainable params: 0\n",
      "_________________________________________________________________\n"
     ]
    }
   ],
   "source": [
    "model.summary()"
   ]
  },
  {
   "cell_type": "code",
   "execution_count": 14,
   "id": "71b2ccac",
   "metadata": {},
   "outputs": [],
   "source": [
    "from tensorflow.keras.callbacks import EarlyStopping\n",
    "\n",
    "early_stop = EarlyStopping(monitor = 'val_loss', patience = 2)"
   ]
  },
  {
   "cell_type": "code",
   "execution_count": 15,
   "id": "edef7c4b",
   "metadata": {},
   "outputs": [
    {
     "name": "stdout",
     "output_type": "stream",
     "text": [
      "Epoch 1/10\n",
      "3421/3421 [==============================] - 142s 41ms/step - loss: 0.0141 - val_loss: 0.0125\n",
      "Epoch 2/10\n",
      "3421/3421 [==============================] - 208s 61ms/step - loss: 0.0087 - val_loss: 0.0098\n",
      "Epoch 3/10\n",
      "3421/3421 [==============================] - 190s 55ms/step - loss: 0.0080 - val_loss: 0.0101\n",
      "Epoch 4/10\n",
      "3421/3421 [==============================] - 195s 57ms/step - loss: 0.0077 - val_loss: 0.0093\n",
      "Epoch 5/10\n",
      "3421/3421 [==============================] - 168s 49ms/step - loss: 0.0075 - val_loss: 0.0088\n",
      "Epoch 6/10\n",
      "3421/3421 [==============================] - 162s 47ms/step - loss: 0.0074 - val_loss: 0.0088\n",
      "Epoch 7/10\n",
      "3421/3421 [==============================] - 171s 50ms/step - loss: 0.0073 - val_loss: 0.0082\n",
      "Epoch 8/10\n",
      "3421/3421 [==============================] - 158s 46ms/step - loss: 0.0072 - val_loss: 0.0081\n",
      "Epoch 9/10\n",
      "3421/3421 [==============================] - 170s 50ms/step - loss: 0.0072 - val_loss: 0.0082\n",
      "Epoch 10/10\n",
      "3421/3421 [==============================] - 173s 51ms/step - loss: 0.0072 - val_loss: 0.0083\n"
     ]
    },
    {
     "data": {
      "text/plain": [
       "<keras.callbacks.History at 0x210e4386c40>"
      ]
     },
     "execution_count": 15,
     "metadata": {},
     "output_type": "execute_result"
    }
   ],
   "source": [
    "model.fit(generator, validation_data=val_generator, epochs=10, callbacks=[early_stop])"
   ]
  },
  {
   "cell_type": "code",
   "execution_count": 16,
   "id": "e301bb5d",
   "metadata": {},
   "outputs": [
    {
     "data": {
      "text/plain": [
       "<AxesSubplot:>"
      ]
     },
     "execution_count": 16,
     "metadata": {},
     "output_type": "execute_result"
    },
    {
     "data": {
      "image/png": "[encoded data removed]",
      "text/plain": [
       "<Figure size 640x480 with 1 Axes>"
      ]
     },
     "metadata": {},
     "output_type": "display_data"
    }
   ],
   "source": [
    "losses = pd.DataFrame(model.history.history)\n",
    "losses.plot()"
   ]
  },
  {
   "cell_type": "code",
   "execution_count": 17,
   "id": "3becdf53",
   "metadata": {},
   "outputs": [],
   "source": [
    "test_predictions = []\n",
    "\n",
    "first_eval_batch = scaled_train[-length:]\n",
    "current_batch = first_eval_batch.reshape((1, length, n_features))  \n",
    "\n",
    "for i in range(len(test)):\n",
    "    current_pred = model.predict(current_batch, verbose=0)[0]\n",
    "    test_predictions.append(current_pred)\n",
    "    current_batch = np.append(current_batch[:, 1:, :], [[current_pred]], axis=1)"
   ]
  },
  {
   "cell_type": "code",
   "execution_count": 23,
   "id": "9f77926e",
   "metadata": {},
   "outputs": [],
   "source": [
    "true_predictions = scaler.inverse_transform(test_predictions)"
   ]
  },
  {
   "cell_type": "code",
   "execution_count": 27,
   "id": "5376570a",
   "metadata": {},
   "outputs": [],
   "source": [
    "predicted_df = pd.DataFrame(data=true_predictions, columns = test.columns)"
   ]
  },
  {
   "cell_type": "code",
   "execution_count": 29,
   "id": "ba7f2364",
   "metadata": {},
   "outputs": [
    {
     "data": {
      "text/plain": [
       "Appliances     137\n",
       "lights         137\n",
       "T1             137\n",
       "RH_1           137\n",
       "T2             137\n",
       "RH_2           137\n",
       "T3             137\n",
       "RH_3           137\n",
       "T4             137\n",
       "RH_4           137\n",
       "T5             137\n",
       "RH_5           137\n",
       "T6             137\n",
       "RH_6           137\n",
       "T7             137\n",
       "RH_7           137\n",
       "T8             137\n",
       "RH_8           137\n",
       "T9             137\n",
       "RH_9           137\n",
       "T_out          137\n",
       "Press_mm_hg    137\n",
       "RH_out         137\n",
       "Windspeed      137\n",
       "Visibility     137\n",
       "Tdewpoint      137\n",
       "rv1            137\n",
       "rv2            137\n",
       "dtype: int64"
      ]
     },
     "execution_count": 29,
     "metadata": {},
     "output_type": "execute_result"
    }
   ],
   "source": [
    "predicted_df.isna().sum()"
   ]
  },
  {
   "cell_type": "code",
   "execution_count": 35,
   "id": "760d46b2",
   "metadata": {},
   "outputs": [
    {
     "data": {
      "text/plain": [
       "[<matplotlib.lines.Line2D at 0x210f607a100>]"
      ]
     },
     "execution_count": 35,
     "metadata": {},
     "output_type": "execute_result"
    },
    {
     "data": {
      "image/png": "[encoded data removed]",
      "text/plain": [
       "<Figure size 640x480 with 1 Axes>"
      ]
     },
     "metadata": {},
     "output_type": "display_data"
    }
   ],
   "source": [
    "plt.plot(predicted_df['Appliances'])"
   ]
  },
  {
   "cell_type": "code",
   "execution_count": 36,
   "id": "581cce61",
   "metadata": {},
   "outputs": [
    {
     "data": {
      "text/plain": [
       "[<matplotlib.lines.Line2D at 0x210f616eee0>]"
      ]
     },
     "execution_count": 36,
     "metadata": {},
     "output_type": "execute_result"
    },
    {
     "data": {
      "image/png": "[encoded data removed]",
      "text/plain": [
       "<Figure size 640x480 with 1 Axes>"
      ]
     },
     "metadata": {},
     "output_type": "display_data"
    }
   ],
   "source": [
    "plt.plot(test['Appliances'])"
   ]
  },
  {
   "cell_type": "code",
   "execution_count": 39,
   "id": "e5d6bacf",
   "metadata": {},
   "outputs": [
    {
     "data": {
      "text/html": [
       "<div>\n",
       "<style scoped>\n",
       "    .dataframe tbody tr th:only-of-type {\n",
       "        vertical-align: middle;\n",
       "    }\n",
       "\n",
       "    .dataframe tbody tr th {\n",
       "        vertical-align: top;\n",
       "    }\n",
       "\n",
       "    .dataframe thead th {\n",
       "        text-align: right;\n",
       "    }\n",
       "</style>\n",
       "<table border=\"1\" class=\"dataframe\">\n",
       "  <thead>\n",
       "    <tr style=\"text-align: right;\">\n",
       "      <th></th>\n",
       "      <th>Appliances</th>\n",
       "      <th>lights</th>\n",
       "      <th>T1</th>\n",
       "      <th>RH_1</th>\n",
       "      <th>T2</th>\n",
       "      <th>RH_2</th>\n",
       "      <th>T3</th>\n",
       "      <th>RH_3</th>\n",
       "      <th>T4</th>\n",
       "      <th>RH_4</th>\n",
       "      <th>...</th>\n",
       "      <th>T9</th>\n",
       "      <th>RH_9</th>\n",
       "      <th>T_out</th>\n",
       "      <th>Press_mm_hg</th>\n",
       "      <th>RH_out</th>\n",
       "      <th>Windspeed</th>\n",
       "      <th>Visibility</th>\n",
       "      <th>Tdewpoint</th>\n",
       "      <th>rv1</th>\n",
       "      <th>rv2</th>\n",
       "    </tr>\n",
       "    <tr>\n",
       "      <th>date</th>\n",
       "      <th></th>\n",
       "      <th></th>\n",
       "      <th></th>\n",
       "      <th></th>\n",
       "      <th></th>\n",
       "      <th></th>\n",
       "      <th></th>\n",
       "      <th></th>\n",
       "      <th></th>\n",
       "      <th></th>\n",
       "      <th></th>\n",
       "      <th></th>\n",
       "      <th></th>\n",
       "      <th></th>\n",
       "      <th></th>\n",
       "      <th></th>\n",
       "      <th></th>\n",
       "      <th></th>\n",
       "      <th></th>\n",
       "      <th></th>\n",
       "      <th></th>\n",
       "    </tr>\n",
       "  </thead>\n",
       "  <tbody>\n",
       "    <tr>\n",
       "      <th>2016-05-01 00:00:00</th>\n",
       "      <td>50</td>\n",
       "      <td>0</td>\n",
       "      <td>21.20</td>\n",
       "      <td>38.20</td>\n",
       "      <td>18.39</td>\n",
       "      <td>41.4</td>\n",
       "      <td>23.20</td>\n",
       "      <td>36.40</td>\n",
       "      <td>19.73</td>\n",
       "      <td>37.73</td>\n",
       "      <td>...</td>\n",
       "      <td>19.17</td>\n",
       "      <td>38.20</td>\n",
       "      <td>4.30</td>\n",
       "      <td>763.70</td>\n",
       "      <td>86.00</td>\n",
       "      <td>2.00</td>\n",
       "      <td>40.00</td>\n",
       "      <td>2.20</td>\n",
       "      <td>15.31</td>\n",
       "      <td>15.31</td>\n",
       "    </tr>\n",
       "    <tr>\n",
       "      <th>2016-05-01 00:10:00</th>\n",
       "      <td>60</td>\n",
       "      <td>0</td>\n",
       "      <td>21.15</td>\n",
       "      <td>38.17</td>\n",
       "      <td>18.39</td>\n",
       "      <td>41.5</td>\n",
       "      <td>23.13</td>\n",
       "      <td>36.47</td>\n",
       "      <td>19.70</td>\n",
       "      <td>37.66</td>\n",
       "      <td>...</td>\n",
       "      <td>19.13</td>\n",
       "      <td>38.29</td>\n",
       "      <td>4.28</td>\n",
       "      <td>763.72</td>\n",
       "      <td>86.33</td>\n",
       "      <td>2.17</td>\n",
       "      <td>38.17</td>\n",
       "      <td>2.22</td>\n",
       "      <td>11.24</td>\n",
       "      <td>11.24</td>\n",
       "    </tr>\n",
       "  </tbody>\n",
       "</table>\n",
       "<p>2 rows × 28 columns</p>\n",
       "</div>"
      ],
      "text/plain": [
       "                     Appliances  lights     T1   RH_1     T2  RH_2     T3  \\\n",
       "date                                                                        \n",
       "2016-05-01 00:00:00          50       0  21.20  38.20  18.39  41.4  23.20   \n",
       "2016-05-01 00:10:00          60       0  21.15  38.17  18.39  41.5  23.13   \n",
       "\n",
       "                      RH_3     T4   RH_4  ...     T9   RH_9  T_out  \\\n",
       "date                                      ...                        \n",
       "2016-05-01 00:00:00  36.40  19.73  37.73  ...  19.17  38.20   4.30   \n",
       "2016-05-01 00:10:00  36.47  19.70  37.66  ...  19.13  38.29   4.28   \n",
       "\n",
       "                     Press_mm_hg  RH_out  Windspeed  Visibility  Tdewpoint  \\\n",
       "date                                                                         \n",
       "2016-05-01 00:00:00       763.70   86.00       2.00       40.00       2.20   \n",
       "2016-05-01 00:10:00       763.72   86.33       2.17       38.17       2.22   \n",
       "\n",
       "                       rv1    rv2  \n",
       "date                               \n",
       "2016-05-01 00:00:00  15.31  15.31  \n",
       "2016-05-01 00:10:00  11.24  11.24  \n",
       "\n",
       "[2 rows x 28 columns]"
      ]
     },
     "execution_count": 39,
     "metadata": {},
     "output_type": "execute_result"
    }
   ],
   "source": [
    "test.head(2)"
   ]
  },
  {
   "cell_type": "code",
   "execution_count": 40,
   "id": "dd6acdac",
   "metadata": {},
   "outputs": [
    {
     "data": {
      "text/html": [
       "<div>\n",
       "<style scoped>\n",
       "    .dataframe tbody tr th:only-of-type {\n",
       "        vertical-align: middle;\n",
       "    }\n",
       "\n",
       "    .dataframe tbody tr th {\n",
       "        vertical-align: top;\n",
       "    }\n",
       "\n",
       "    .dataframe thead th {\n",
       "        text-align: right;\n",
       "    }\n",
       "</style>\n",
       "<table border=\"1\" class=\"dataframe\">\n",
       "  <thead>\n",
       "    <tr style=\"text-align: right;\">\n",
       "      <th></th>\n",
       "      <th>Appliances</th>\n",
       "      <th>lights</th>\n",
       "      <th>T1</th>\n",
       "      <th>RH_1</th>\n",
       "      <th>T2</th>\n",
       "      <th>RH_2</th>\n",
       "      <th>T3</th>\n",
       "      <th>RH_3</th>\n",
       "      <th>T4</th>\n",
       "      <th>RH_4</th>\n",
       "      <th>...</th>\n",
       "      <th>T9</th>\n",
       "      <th>RH_9</th>\n",
       "      <th>T_out</th>\n",
       "      <th>Press_mm_hg</th>\n",
       "      <th>RH_out</th>\n",
       "      <th>Windspeed</th>\n",
       "      <th>Visibility</th>\n",
       "      <th>Tdewpoint</th>\n",
       "      <th>rv1</th>\n",
       "      <th>rv2</th>\n",
       "    </tr>\n",
       "  </thead>\n",
       "  <tbody>\n",
       "    <tr>\n",
       "      <th>0</th>\n",
       "      <td>293.369376</td>\n",
       "      <td>7.688470</td>\n",
       "      <td>25.652485</td>\n",
       "      <td>48.501712</td>\n",
       "      <td>25.313933</td>\n",
       "      <td>44.724447</td>\n",
       "      <td>27.006234</td>\n",
       "      <td>41.499073</td>\n",
       "      <td>24.779679</td>\n",
       "      <td>46.491055</td>\n",
       "      <td>...</td>\n",
       "      <td>23.230670</td>\n",
       "      <td>46.649490</td>\n",
       "      <td>21.815626</td>\n",
       "      <td>755.588509</td>\n",
       "      <td>59.110701</td>\n",
       "      <td>4.403574</td>\n",
       "      <td>26.776691</td>\n",
       "      <td>13.538238</td>\n",
       "      <td>22.446232</td>\n",
       "      <td>22.283441</td>\n",
       "    </tr>\n",
       "    <tr>\n",
       "      <th>1</th>\n",
       "      <td>185.996156</td>\n",
       "      <td>6.608336</td>\n",
       "      <td>25.778864</td>\n",
       "      <td>49.682741</td>\n",
       "      <td>25.256323</td>\n",
       "      <td>46.219607</td>\n",
       "      <td>27.179860</td>\n",
       "      <td>42.187315</td>\n",
       "      <td>24.840705</td>\n",
       "      <td>47.423731</td>\n",
       "      <td>...</td>\n",
       "      <td>23.297609</td>\n",
       "      <td>46.626039</td>\n",
       "      <td>21.366318</td>\n",
       "      <td>756.234669</td>\n",
       "      <td>62.672028</td>\n",
       "      <td>4.697132</td>\n",
       "      <td>25.929432</td>\n",
       "      <td>13.909259</td>\n",
       "      <td>23.448488</td>\n",
       "      <td>23.361212</td>\n",
       "    </tr>\n",
       "  </tbody>\n",
       "</table>\n",
       "<p>2 rows × 28 columns</p>\n",
       "</div>"
      ],
      "text/plain": [
       "   Appliances    lights         T1       RH_1         T2       RH_2  \\\n",
       "0  293.369376  7.688470  25.652485  48.501712  25.313933  44.724447   \n",
       "1  185.996156  6.608336  25.778864  49.682741  25.256323  46.219607   \n",
       "\n",
       "          T3       RH_3         T4       RH_4  ...         T9       RH_9  \\\n",
       "0  27.006234  41.499073  24.779679  46.491055  ...  23.230670  46.649490   \n",
       "1  27.179860  42.187315  24.840705  47.423731  ...  23.297609  46.626039   \n",
       "\n",
       "       T_out  Press_mm_hg     RH_out  Windspeed  Visibility  Tdewpoint  \\\n",
       "0  21.815626   755.588509  59.110701   4.403574   26.776691  13.538238   \n",
       "1  21.366318   756.234669  62.672028   4.697132   25.929432  13.909259   \n",
       "\n",
       "         rv1        rv2  \n",
       "0  22.446232  22.283441  \n",
       "1  23.448488  23.361212  \n",
       "\n",
       "[2 rows x 28 columns]"
      ]
     },
     "execution_count": 40,
     "metadata": {},
     "output_type": "execute_result"
    }
   ],
   "source": [
    "predicted_df.head(2)"
   ]
  },
  {
   "cell_type": "code",
   "execution_count": null,
   "id": "6c585392",
   "metadata": {},
   "outputs": [],
   "source": []
  }
 ],
 "metadata": {
  "kernelspec": {
   "display_name": "Python 3 (ipykernel)",
   "language": "python",
   "name": "python3"
  },
  "language_info": {
   "codemirror_mode": {
    "name": "ipython",
    "version": 3
   },
   "file_extension": ".py",
   "mimetype": "text/x-python",
   "name": "python",
   "nbconvert_exporter": "python",
   "pygments_lexer": "ipython3",
   "version": "3.9.6"
  }
 },
 "nbformat": 4,
 "nbformat_minor": 5
}
